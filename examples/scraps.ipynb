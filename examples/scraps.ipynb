{
 "cells": [
  {
   "cell_type": "code",
   "execution_count": null,
   "metadata": {},
   "outputs": [],
   "source": [
    "# # Calculate the number of examples\n",
    "# n_examples = 20 - INPUT_CHUNK_LEN - OUTPUT_CHUNK_LEN + 1\n",
    "# print(f\"{n_examples=}\")\n",
    "\n",
    "# # Create p_q series\n",
    "# train_p_q, train_lags = create_variable_lag_p_q_series(\n",
    "#     n_values=TRAIN_SERIES_LEN, switch_prob=SWITCH_PROB, lag_collar=LAG_COLLAR\n",
    "# )\n",
    "\n",
    "# # Fix inconsistent lags\n",
    "# lags = train_lags.values().squeeze()\n",
    "# bad_example_cnt = 0\n",
    "# for i in range(n_examples):\n",
    "#     example = lag_array[i : i + INPUT_CHUNK_LEN + OUTPUT_CHUNK_LEN]\n",
    "#     last_input_lag = example[-2]\n",
    "#     output_lag = example[-1]\n",
    "#     if last_input_lag != output_lag:\n",
    "#         lags[i + INPUT_CHUNK_LEN] = last_input_lag\n",
    "\n",
    "# # Create all good examples\n",
    "# lags = lags.astype(np.int32)\n",
    "# p = train_p_q[\"p\"].values().squeeze()\n",
    "# n_values = len(p)\n",
    "# q = np.zeros(n_values).astype(np.float32)\n",
    "# for i in range(n_values):\n",
    "#     if i + lags[i] < 0:\n",
    "#         q[i] = p[0]\n",
    "#     elif i + lags[i] > n_values - 1:\n",
    "#         q[i] = p[n_values - 1]\n",
    "#     else:\n",
    "#         q[i] = p[i + lags[i]]\n",
    "# train_p_q = p_q_arrays_to_series(p, q)\n",
    "# train_lags = lag_array_to_series(lags)\n",
    "\n",
    "# # Verify lag statistics\n",
    "# print(f\"{SWITCH_PROB=}\")\n",
    "\n",
    "# lag_switch_ratio = get_lag_switch_ratio(train_lags)\n",
    "# bad_example_ratio = get_bad_example_ratio(train_lags, INPUT_CHUNK_LEN, OUTPUT_CHUNK_LEN)\n",
    "\n",
    "# print(f\"lag switch percentage: {lag_switch_ratio * 100:.2f}%\")\n",
    "# print(f\"bad example percentage: {bad_example_ratio * 100:.2f}%\")\n",
    "# plot_lag_histogram(train_lags)\n",
    "\n"
   ]
  }
 ],
 "metadata": {
  "language_info": {
   "name": "python"
  }
 },
 "nbformat": 4,
 "nbformat_minor": 2
}
